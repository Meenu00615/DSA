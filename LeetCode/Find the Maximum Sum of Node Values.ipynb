class Solution:
    def maximumValueSum(self, nums, k, edges):
        """
        :type nums: List[int]
        :type k: int
        :type edges: List[List[int]]
        :rtype: int
        """
        delta = sorted([(x ^ k) - x for i, x in enumerate(nums)], reverse=True)
        i, n = 0, len(delta)
        ans = sum(nums)
        while i+1 < n and delta[i]+delta[i+1]>0:
            ans+=delta[i]+delta[i+1]
            i+=2
        return ans